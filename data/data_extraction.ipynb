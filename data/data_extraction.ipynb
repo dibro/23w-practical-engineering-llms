{
 "cells": [
  {
   "cell_type": "code",
   "execution_count": 12,
   "source": [
    "import PyPDF2\n",
    "import pdfminer.high_level as high\n",
    "import pdfminer.layout as layout\n",
    "import sys\n",
    "import os\n",
    "\n",
    "def text_extraction(pdf_path):\n",
    "    text = \"\"\n",
    "\n",
    "    try: \n",
    "        with open(pdf_path, 'rb') as file:\n",
    "            pdf_reader = PyPDF2.PdfFileReader(file)\n",
    "            num_pages = pdf_reader.numPages\n",
    "\n",
    "            for page in range(num_pages):\n",
    "                text += pdf_reader.getPage(page).extractText()\n",
    "\n",
    "    except: # In case we fail with PyPDF2, switch to pdfminer.six\n",
    "        with open(pdf_path, 'rb') as file:\n",
    "            try:\n",
    "                high.extract_text_to_fp(file, sys.stdout)\n",
    "            except:\n",
    "                print(\"Error occurred while extracting the PDF content\")\n",
    "\n",
    "    return text\n",
    "\n",
    "# Try a random pdf\n",
    "pdf_path = os.path.join(os.getcwd(), 'data','sample.pdf')\n",
    "print(text_extraction(pdf_path))\n",
    "\n",
    "# Mount content if using Drive\n",
    "#from google.colab import drive\n",
    "#drive.mount('/content/drive')"
   ],
   "outputs": [
    {
     "output_type": "stream",
     "name": "stdout",
     "text": [
      "Business Use Case: Retail Sales Performance Analysis Objective: The retail company aims to analyze its sales performance across different product categories and regions to identify trends, opportunities, and areas for improvement. Data Sources: 1. Sales Data Table: • Contains columns such as Product ID, Product Name, Region, Sales Quantity, Sales Revenue, and Date. Product ID Product Name Region Sales Quantity Sales Revenue ($) Date 001 Laptop North 50 100,000 2023-01-01 002 Smartphone South 80 60,000 2023-01-01 ... ... ... ... ... ... 2. Customer Feedback Texts: • Contains customer feedback texts related to products, collected through surveys or online reviews. Feedback ID Product ID Customer Feedback 101 001 \"The laptop is powerful and exceeded my expectations.\" 102 002 \"Great smartphone with a fantastic camera.\" ... ... ... Analysis and Insights (Text and Table Integration): 1. Sales Trends Analysis: • Use tables to compare sales quantities and revenues across products and regions. • Textual insights: Summarize trends, e.g., \"Laptop sales are strong in the North, while smartphones perform well in the South.\" 2. Customer Sentiment Analysis: • Analyze customer feedback texts sentimentally to understand product satisfaction. • Tables can quantify positive and negative sentiments for each product. • Textual insights: \"Customers are highly satisfied with the laptop's performance, contributing positively to sales.\" 3. Seasonal Patterns: • Tables can show sales variations over time. • Textual insights: \"During the holiday season, there is a surge in smartphone sales, particularly in the South.\" 4. Recommendations and Future Strategies: \f• Use tables to highlight underperforming products or regions. • Textual insights: \"Considering positive feedback, invest in marketing strategies for laptops in the North to capitalize on the current trend.\"  \f\n"
     ]
    }
   ],
   "metadata": {}
  }
 ],
 "nbformat": 4,
 "nbformat_minor": 2,
 "metadata": {
  "language_info": {
   "codemirror_mode": {
    "name": "ipython",
    "version": 3
   },
   "file_extension": ".py",
   "mimetype": "text/x-python",
   "name": "python",
   "nbconvert_exporter": "python",
   "pygments_lexer": "ipython3",
   "version": 3
  }
 }
}